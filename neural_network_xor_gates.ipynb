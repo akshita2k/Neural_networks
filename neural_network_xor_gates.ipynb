{
  "nbformat": 4,
  "nbformat_minor": 0,
  "metadata": {
    "kernelspec": {
      "display_name": "Python 3",
      "language": "python",
      "name": "python3"
    },
    "language_info": {
      "codemirror_mode": {
        "name": "ipython",
        "version": 3
      },
      "file_extension": ".py",
      "mimetype": "text/x-python",
      "name": "python",
      "nbconvert_exporter": "python",
      "pygments_lexer": "ipython3",
      "version": "3.6.8"
    },
    "colab": {
      "name": "neural network-xor gates.ipynb",
      "provenance": [],
      "include_colab_link": true
    }
  },
  "cells": [
    {
      "cell_type": "markdown",
      "metadata": {
        "id": "view-in-github",
        "colab_type": "text"
      },
      "source": [
        "<a href=\"https://colab.research.google.com/github/akshita2k/Neural_networks/blob/master/neural_network_xor_gates.ipynb\" target=\"_parent\"><img src=\"https://colab.research.google.com/assets/colab-badge.svg\" alt=\"Open In Colab\"/></a>"
      ]
    },
    {
      "cell_type": "code",
      "metadata": {
        "id": "-Wozrn2Am84g",
        "colab_type": "code",
        "colab": {}
      },
      "source": [
        "import numpy as np\n",
        "import pandas as pd\n",
        "import matplotlib.pyplot as plt\n",
        "\n",
        "from sklearn.model_selection import train_test_split\n",
        "\n",
        "%matplotlib inline"
      ],
      "execution_count": 0,
      "outputs": []
    },
    {
      "cell_type": "code",
      "metadata": {
        "id": "qmTC-Pg8m845",
        "colab_type": "code",
        "colab": {}
      },
      "source": [
        "input_data=np.array([[0,0,0],\n",
        "                     [0,1,0],\n",
        "                     [0,0,1],\n",
        "                     [1,1,0],\n",
        "                     [1,0,1],\n",
        "                     [1,1,1]])"
      ],
      "execution_count": 0,
      "outputs": []
    },
    {
      "cell_type": "code",
      "metadata": {
        "id": "5V8GGQ2em85N",
        "colab_type": "code",
        "colab": {}
      },
      "source": [
        "output_data=np.array([[0],\n",
        "                      [1],\n",
        "                      [1],\n",
        "                      [0],\n",
        "                      [0],\n",
        "                      [1]])"
      ],
      "execution_count": 0,
      "outputs": []
    },
    {
      "cell_type": "code",
      "metadata": {
        "id": "vifTgGghm85d",
        "colab_type": "code",
        "colab": {}
      },
      "source": [
        "def sigmoid(x):\n",
        "    return (1)/(1+ np.exp(-x))"
      ],
      "execution_count": 0,
      "outputs": []
    },
    {
      "cell_type": "code",
      "metadata": {
        "id": "RQ_4DdCcm85r",
        "colab_type": "code",
        "colab": {}
      },
      "source": [
        "def dsigmoid(x):\n",
        "    return x*(1-x)"
      ],
      "execution_count": 0,
      "outputs": []
    },
    {
      "cell_type": "code",
      "metadata": {
        "id": "20itJIhvm853",
        "colab_type": "code",
        "colab": {}
      },
      "source": [
        "np.random.seed(1)\n",
        "w0=np.random.random((3,2))-1\n",
        "w1=np.random.random((2,1))-1\n",
        "\n",
        "b0=np.random.random((1,1))-1\n",
        "b1=np.random.random((1,1))-1"
      ],
      "execution_count": 0,
      "outputs": []
    },
    {
      "cell_type": "code",
      "metadata": {
        "id": "t4qIPgY-m86F",
        "colab_type": "code",
        "colab": {}
      },
      "source": [
        "def feed_forward(data_in,w0,w1,b0,b1):\n",
        "    layer0 = data_in\n",
        "    layer1 =sigmoid(np.dot(layer0,w0)+b0)\n",
        "    layer2= sigmoid(np.dot(layer1,w1)+b1)\n",
        "    \n",
        "    return layer0,layer1,layer2"
      ],
      "execution_count": 0,
      "outputs": []
    },
    {
      "cell_type": "code",
      "metadata": {
        "id": "FiVmueaBm86S",
        "colab_type": "code",
        "colab": {}
      },
      "source": [
        "def back_propogation(layer0,layer1,layer2,actual_y,w0,w1,b0,b1,learning_rate,i):\n",
        "    \n",
        "    l2_error = layer2 - actual_y\n",
        "    l2_delta = l2_error * dsigmoid(layer2)\n",
        "    dh2 = np.dot(layer1.T,l2_delta)\n",
        "    \n",
        "    l1_error = np.dot(l2_delta,w1.T)\n",
        "    l1_delta = l1_error * dsigmoid(layer1)\n",
        "    dh1 = np.dot(layer0.T, l1_delta)\n",
        "    \n",
        "    w1 = w1 - (learning_rate * dh2)\n",
        "    w0 = w0 - (learning_rate * dh1)\n",
        "    \n",
        "    b1=b1 - (learning_rate * np.mean(l2_delta))\n",
        "    b0=b0 - (learning_rate * np.mean(l1_delta))\n",
        "    \n",
        "    if i%1 ==0 and (i!=0):\n",
        "        loss=np.mean(np.power(layer2 - actual_y,2))\n",
        "        loss_curve.append(loss)\n",
        "        iters.append(int(i))\n",
        "        \n",
        "        if i%100==0:\n",
        "            print('\\n',int(i),loss)\n",
        "    return w0,w1,b1,b0"
      ],
      "execution_count": 0,
      "outputs": []
    },
    {
      "cell_type": "code",
      "metadata": {
        "id": "L27O43gEm86d",
        "colab_type": "code",
        "colab": {}
      },
      "source": [
        "def accuracy(testx,testy):\n",
        "    correct=0\n",
        "    layer0,layer1,layer2 = feed_forward(testx, w0,w1,b0,b1)\n",
        "    for i in range(len(testx)):\n",
        "        if np.argmax(layer2[i])==np.argmax(testy[1]):\n",
        "            correct +=1\n",
        "            \n",
        "    return f\"Accuracy: {correct*100/len(testy)}\""
      ],
      "execution_count": 0,
      "outputs": []
    },
    {
      "cell_type": "code",
      "metadata": {
        "id": "fjek6mYAm86s",
        "colab_type": "code",
        "colab": {}
      },
      "source": [
        "epochs=10\n",
        "loss_curve = []\n",
        "iters = []\n"
      ],
      "execution_count": 0,
      "outputs": []
    },
    {
      "cell_type": "code",
      "metadata": {
        "id": "7dPReDlEm866",
        "colab_type": "code",
        "colab": {}
      },
      "source": [
        "for  i in range(epochs):\n",
        "    layer0,layer1,layer2=feed_forward(input_data,w0,w1,b0,b1)\n",
        "    w0,w1,b0,b1= back_propogation(layer0,layer1,layer2,output_data,w0,w1,b0,b1,0.01,i)"
      ],
      "execution_count": 0,
      "outputs": []
    },
    {
      "cell_type": "code",
      "metadata": {
        "id": "gIm5Hr82m87F",
        "colab_type": "code",
        "outputId": "04ff6f93-9d33-436d-bcb6-db05e254f2cf",
        "colab": {
          "base_uri": "https://localhost:8080/",
          "height": 283
        }
      },
      "source": [
        "plt.plot(iters,loss_curve)"
      ],
      "execution_count": 12,
      "outputs": [
        {
          "output_type": "execute_result",
          "data": {
            "text/plain": [
              "[<matplotlib.lines.Line2D at 0x7f9df1ee6cc0>]"
            ]
          },
          "metadata": {
            "tags": []
          },
          "execution_count": 12
        },
        {
          "output_type": "display_data",
          "data": {
            "image/png": "[encoded data removed]",
            "text/plain": [
              "<Figure size 432x288 with 1 Axes>"
            ]
          },
          "metadata": {
            "tags": []
          }
        }
      ]
    },
    {
      "cell_type": "code",
      "metadata": {
        "id": "9UGu3QFfm87W",
        "colab_type": "code",
        "outputId": "54e6318c-0701-48f9-8700-463cda1e271a",
        "colab": {
          "base_uri": "https://localhost:8080/",
          "height": 35
        }
      },
      "source": [
        "accuracy(input_data, output_data)"
      ],
      "execution_count": 13,
      "outputs": [
        {
          "output_type": "execute_result",
          "data": {
            "text/plain": [
              "'Accuracy: 100.0'"
            ]
          },
          "metadata": {
            "tags": []
          },
          "execution_count": 13
        }
      ]
    },
    {
      "cell_type": "code",
      "metadata": {
        "id": "Os3JTNl1m87i",
        "colab_type": "code",
        "outputId": "ae58cd85-6b17-43a7-c587-48b18f2dc758",
        "colab": {
          "base_uri": "https://localhost:8080/",
          "height": 35
        }
      },
      "source": [
        "feed_forward([1,1,0],w0,w1,b0,b1)"
      ],
      "execution_count": 14,
      "outputs": [
        {
          "output_type": "execute_result",
          "data": {
            "text/plain": [
              "([1, 1, 0], array([[0.10109187, 0.17084411]]), array([[0.34239232]]))"
            ]
          },
          "metadata": {
            "tags": []
          },
          "execution_count": 14
        }
      ]
    },
    {
      "cell_type": "code",
      "metadata": {
        "id": "sGejgr2wm87t",
        "colab_type": "code",
        "colab": {}
      },
      "source": [
        ""
      ],
      "execution_count": 0,
      "outputs": []
    }
  ]
}