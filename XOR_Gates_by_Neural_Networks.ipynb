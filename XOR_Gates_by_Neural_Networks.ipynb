{
  "nbformat": 4,
  "nbformat_minor": 0,
  "metadata": {
    "colab": {
      "name": "XOR Gates by Neural Networks.ipynb",
      "provenance": [],
      "authorship_tag": "ABX9TyM2Cd+tmXP6NtT9MUSWooiA",
      "include_colab_link": true
    },
    "kernelspec": {
      "name": "python3",
      "display_name": "Python 3"
    }
  },
  "cells": [
    {
      "cell_type": "markdown",
      "metadata": {
        "id": "view-in-github",
        "colab_type": "text"
      },
      "source": [
        "<a href=\"https://colab.research.google.com/github/akshita2k/Neural_networks/blob/master/XOR_Gates_by_Neural_Networks.ipynb\" target=\"_parent\"><img src=\"https://colab.research.google.com/assets/colab-badge.svg\" alt=\"Open In Colab\"/></a>"
      ]
    },
    {
      "cell_type": "code",
      "metadata": {
        "id": "p5bZAIFN0ZST",
        "colab_type": "code",
        "colab": {}
      },
      "source": [
        "import numpy as np\n",
        "import pandas as pd\n",
        "import matplotlib.pyplot as plt\n",
        "\n",
        "from sklearn.model_selection import train_test_split\n",
        "\n",
        "%matplotlib inline"
      ],
      "execution_count": 0,
      "outputs": []
    },
    {
      "cell_type": "code",
      "metadata": {
        "id": "wK8SAplw-S1G",
        "colab_type": "code",
        "colab": {}
      },
      "source": [
        "input_data=np.array([[0,0,0],\n",
        "                    [0,1,0],\n",
        "                    [0,0,1],\n",
        "                    [1,1,0],\n",
        "                    [1,0,1],\n",
        "                    [1,1,1]])"
      ],
      "execution_count": 0,
      "outputs": []
    },
    {
      "cell_type": "code",
      "metadata": {
        "id": "8m_xBLIz-lJ8",
        "colab_type": "code",
        "colab": {}
      },
      "source": [
        "output_data=np.array([[0],\n",
        "                      [0],\n",
        "                      [0],\n",
        "                      [0],\n",
        "                      [0],\n",
        "                      [1]])"
      ],
      "execution_count": 0,
      "outputs": []
    },
    {
      "cell_type": "code",
      "metadata": {
        "id": "xYswPnk8_wnm",
        "colab_type": "code",
        "colab": {}
      },
      "source": [
        "def sigmoid(x):\n",
        "  return (1)/(1+ np.exp(-x))"
      ],
      "execution_count": 0,
      "outputs": []
    },
    {
      "cell_type": "code",
      "metadata": {
        "id": "7LAhEVzpAHRm",
        "colab_type": "code",
        "colab": {}
      },
      "source": [
        "def dsigmoid(x):\n",
        "  return x*(1-x)"
      ],
      "execution_count": 0,
      "outputs": []
    },
    {
      "cell_type": "code",
      "metadata": {
        "id": "hU3qWkFMANIs",
        "colab_type": "code",
        "colab": {}
      },
      "source": [
        "np.random.seed(1)\n",
        "w0=np.random.random((3,2))-1\n",
        "w1=np.random.random((2,1))-1\n",
        "\n",
        "b0=np.random.random((1,1))-1\n",
        "b1=np.random.random((1,1))-1"
      ],
      "execution_count": 0,
      "outputs": []
    },
    {
      "cell_type": "code",
      "metadata": {
        "id": "mcstg2aaAjVg",
        "colab_type": "code",
        "colab": {}
      },
      "source": [
        "def feed_forward(data_in,wo,w1,b0,b1):\n",
        "  layer0=data_in\n",
        "  layer1=sigmoid(np.dot(layer0,w0)+b0)\n",
        "  layer2=sigmoid(np.dot(layer1,w1)+b1)\n",
        "\n",
        "  return layer0,layer1,layer2"
      ],
      "execution_count": 0,
      "outputs": []
    },
    {
      "cell_type": "code",
      "metadata": {
        "id": "_PW5_6KwBSRO",
        "colab_type": "code",
        "colab": {}
      },
      "source": [
        "def back_propogation(layer0,layer1,layer2,actual_y,w0,w1,b0,b1,learning_rate,i):\n",
        "    \n",
        "    l2_error = layer2 - actual_y\n",
        "    l2_delta = l2_error * dsigmoid(layer2)\n",
        "    dh2 = np.dot(layer1.T,l2_delta)\n",
        "    \n",
        "    l1_error = np.dot(l2_delta,w1.T)\n",
        "    l1_delta = l1_error * dsigmoid(layer1)\n",
        "    dh1 = np.dot(layer0.T, l1_delta)\n",
        "    \n",
        "    w1 = w1 - (learning_rate * dh2)\n",
        "    w0 = w0 - (learning_rate * dh1)\n",
        "    \n",
        "    b1=b1 - (learning_rate * np.mean(l2_delta))\n",
        "    b0=b0 - (learning_rate * np.mean(l1_delta))\n",
        "    \n",
        "    if i%1 ==0 and (i!=0):\n",
        "        loss=np.mean(np.power(layer2 - actual_y,2))\n",
        "        loss_curve.append(loss)\n",
        "        iters.append(int(i))\n",
        "        \n",
        "        if i%100==0:\n",
        "            print('\\n',int(i),loss)\n",
        "    return w0,w1,b1,b0"
      ],
      "execution_count": 0,
      "outputs": []
    },
    {
      "cell_type": "code",
      "metadata": {
        "id": "QtEz09VIC_6e",
        "colab_type": "code",
        "colab": {}
      },
      "source": [
        "def accuracy(testx,testy):\n",
        "  correct=0\n",
        "  layer0,layer1,layer2=feed_forward(testx,w0,w1,b0,b1)\n",
        "\n",
        "  for i in range (len(testx)):\n",
        "    if np.argmax(layer2[i])==np.argmax(testy[1]):\n",
        "      correct+=1\n",
        "  return f\"Accuracy:{correct*100/len(testy)}\"\n",
        "  "
      ],
      "execution_count": 0,
      "outputs": []
    },
    {
      "cell_type": "code",
      "metadata": {
        "id": "PqzgqGOyFK9K",
        "colab_type": "code",
        "colab": {}
      },
      "source": [
        "epochs=10\n",
        "loss_curve =[]\n",
        "iters=[]"
      ],
      "execution_count": 0,
      "outputs": []
    },
    {
      "cell_type": "code",
      "metadata": {
        "id": "ilhNV23CFQ29",
        "colab_type": "code",
        "colab": {}
      },
      "source": [
        "for i in range (epochs):\n",
        "  layer0,layer1,layer2=feed_forward(input_data,w0,w1,b0,b1)\n",
        "  w0,w1,b0,b1=back_propogation(layer0,layer1,layer2,output_data,w0,w1,b0,b1,0.01,i)"
      ],
      "execution_count": 0,
      "outputs": []
    },
    {
      "cell_type": "code",
      "metadata": {
        "id": "OUznVqDlFvoA",
        "colab_type": "code",
        "outputId": "6e6ae1ea-a84c-4374-94cc-78530ff69f75",
        "colab": {
          "base_uri": "https://localhost:8080/",
          "height": 283
        }
      },
      "source": [
        "plt.plot(iters,loss_curve)\n"
      ],
      "execution_count": 0,
      "outputs": [
        {
          "output_type": "execute_result",
          "data": {
            "text/plain": [
              "[<matplotlib.lines.Line2D at 0x7fa655e92e10>]"
            ]
          },
          "metadata": {
            "tags": []
          },
          "execution_count": 113
        },
        {
          "output_type": "display_data",
          "data": {
            "image/png": "[encoded data removed]",
            "text/plain": [
              "<Figure size 432x288 with 1 Axes>"
            ]
          },
          "metadata": {
            "tags": []
          }
        }
      ]
    },
    {
      "cell_type": "code",
      "metadata": {
        "id": "1zAZUQncGKv3",
        "colab_type": "code",
        "outputId": "497723d5-ccf4-49e4-a776-3f8b3ac8176d",
        "colab": {
          "base_uri": "https://localhost:8080/",
          "height": 35
        }
      },
      "source": [
        "accuracy(input_data,output_data)"
      ],
      "execution_count": 0,
      "outputs": [
        {
          "output_type": "execute_result",
          "data": {
            "text/plain": [
              "'Accuracy:100.0'"
            ]
          },
          "metadata": {
            "tags": []
          },
          "execution_count": 114
        }
      ]
    },
    {
      "cell_type": "code",
      "metadata": {
        "id": "4zmUaOj6Hw1H",
        "colab_type": "code",
        "outputId": "2ce05f80-3179-4cc8-8093-e9f31ee5b550",
        "colab": {
          "base_uri": "https://localhost:8080/",
          "height": 35
        }
      },
      "source": [
        "feed_forward([1,1,0],w0,w1,b0,b1)"
      ],
      "execution_count": 0,
      "outputs": [
        {
          "output_type": "execute_result",
          "data": {
            "text/plain": [
              "([1, 1, 0], array([[0.1010474 , 0.17076165]]), array([[0.34116532]]))"
            ]
          },
          "metadata": {
            "tags": []
          },
          "execution_count": 115
        }
      ]
    },
    {
      "cell_type": "code",
      "metadata": {
        "id": "phMOOb-5OmsA",
        "colab_type": "code",
        "colab": {}
      },
      "source": [
        ""
      ],
      "execution_count": 0,
      "outputs": []
    }
  ]
}